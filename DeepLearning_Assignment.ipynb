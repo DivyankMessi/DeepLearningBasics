{
 "cells": [
  {
   "cell_type": "markdown",
   "metadata": {},
   "source": [
    "# Deep Learning Assignment\n",
    "This notebook contains both theoretical and practical answers to the deep learning assignment questions."
   ]
  },
  {
   "cell_type": "markdown",
   "metadata": {},
   "source": [
    "### What is deep learning, and how is it connected to artificial intelligence\n",
    "Deep learning is a subset of machine learning in artificial intelligence (AI) that uses neural networks with many layers (hence 'deep') to model complex patterns in data. It is particularly powerful in tasks like image recognition, natural language processing, and speech recognition."
   ]
  },
  {
   "cell_type": "markdown",
   "metadata": {},
   "source": [
    "### What is a neural network, and what are the different types of neural networks\n",
    "A neural network is a series of algorithms that attempts to recognize underlying relationships in data through a process that mimics how the human brain operates. Types include:\n",
    "- Feedforward Neural Networks (FNN)\n",
    "- Convolutional Neural Networks (CNN)\n",
    "- Recurrent Neural Networks (RNN)\n",
    "- Generative Adversarial Networks (GAN)\n",
    "- Autoencoders"
   ]
  },
  {
   "cell_type": "markdown",
   "metadata": {},
   "source": [
    "### What is the mathematical structure of a neural network\n",
    "A neural network consists of an input layer, hidden layers, and an output layer. Each layer contains neurons. The output of each neuron is computed as:\n",
    "```\n",
    "y = activation(Σ(w_i * x_i) + b)\n",
    "```\n",
    "where `w_i` are weights, `x_i` inputs, `b` is bias, and `activation` is an activation function."
   ]
  },
  {
   "cell_type": "markdown",
   "metadata": {},
   "source": [
    "### What is an activation function, and why is it essential in neural network\n",
    "An activation function introduces non-linearity into the output of a neuron. It allows neural networks to learn complex patterns."
   ]
  },
  {
   "cell_type": "markdown",
   "metadata": {},
   "source": [
    "### Could you list some common activation functions used in neural networks\n",
    "Some common activation functions include:\n",
    "- Sigmoid\n",
    "- Tanh\n",
    "- ReLU (Rectified Linear Unit)\n",
    "- Leaky ReLU\n",
    "- Softmax"
   ]
  },
  {
   "cell_type": "markdown",
   "metadata": {},
   "source": [
    "### What is a multilayer neural network\n",
    "A multilayer neural network has one or more hidden layers between the input and output layers. These layers allow the network to learn more complex representations."
   ]
  },
  {
   "cell_type": "markdown",
   "metadata": {},
   "source": [
    "### What is a loss function, and why is it crucial for neural network training\n",
    "A loss function measures how far the predicted output is from the actual output. It is crucial because training aims to minimize this loss."
   ]
  },
  {
   "cell_type": "markdown",
   "metadata": {},
   "source": [
    "### What are some common types of loss functions\n",
    "Common loss functions include:\n",
    "- Mean Squared Error (MSE)\n",
    "- Binary Crossentropy\n",
    "- Categorical Crossentropy\n",
    "- Hinge Loss"
   ]
  },
  {
   "cell_type": "markdown",
   "metadata": {},
   "source": [
    "### How does a neural network learn\n",
    "It learns by adjusting weights using optimization algorithms based on the loss gradient computed via backpropagation."
   ]
  },
  {
   "cell_type": "markdown",
   "metadata": {},
   "source": [
    "### What is an optimizer in neural networks, and why is it necessary\n",
    "An optimizer updates the weights of the neural network to minimize the loss function. It is essential for effective training."
   ]
  },
  {
   "cell_type": "markdown",
   "metadata": {},
   "source": [
    "### Could you briefly describe some common optimizers\n",
    "Common optimizers include:\n",
    "- SGD (Stochastic Gradient Descent)\n",
    "- Adam\n",
    "- RMSprop\n",
    "- Adagrad"
   ]
  },
  {
   "cell_type": "markdown",
   "metadata": {},
   "source": [
    "### Can you explain forward and backward propagation in a neural network\n",
    "Forward propagation calculates the output of the network. Backward propagation computes the gradient of the loss function with respect to each weight."
   ]
  },
  {
   "cell_type": "markdown",
   "metadata": {},
   "source": [
    "### What is weight initialization, and how does it impact training\n",
    "Weight initialization sets the initial values of weights. Proper initialization (like Xavier or He) can help networks train faster and avoid problems like vanishing gradients."
   ]
  },
  {
   "cell_type": "markdown",
   "metadata": {},
   "source": [
    "### What is the vanishing gradient problem in deep learning\n",
    "It occurs when gradients become too small during backpropagation, preventing weights from changing significantly, and thus halting learning."
   ]
  },
  {
   "cell_type": "markdown",
   "metadata": {},
   "source": [
    "### What is the exploding gradient problem?\n",
    "It occurs when gradients grow exponentially during backpropagation, leading to unstable weights and diverging losses."
   ]
  },
  {
   "cell_type": "markdown",
   "metadata": {},
   "source": [
    "### How do you create a simple perceptron for basic binary classification"
   ]
  },
  {
   "cell_type": "code",
   "execution_count": 2,
   "metadata": {},
   "outputs": [],
   "source": [
    "import tensorflow as tf\n",
    "model = tf.keras.Sequential([\n",
    "    tf.keras.layers.Dense(1, input_dim=2, activation='sigmoid')\n",
    "])\n",
    "model.compile(optimizer='adam', loss='binary_crossentropy', metrics=['accuracy'])"
   ]
  },
  {
   "cell_type": "markdown",
   "metadata": {},
   "source": [
    "### How can you build a neural network with one hidden layer using Keras"
   ]
  },
  {
   "cell_type": "code",
   "execution_count": null,
   "metadata": {},
   "outputs": [],
   "source": [
    "pip install tensorflow"
   ]
  },
  {
   "cell_type": "code",
   "execution_count": 3,
   "metadata": {},
   "outputs": [],
   "source": [
    "model = tf.keras.Sequential([\n",
    "    tf.keras.layers.Dense(64, activation='relu', input_shape=(10,)),  # Hidden layer\n",
    "    tf.keras.layers.Dense(1, activation='sigmoid')  # Output layer\n",
    "])"
   ]
  },
  {
   "cell_type": "markdown",
   "metadata": {},
   "source": [
    "### How do you initialize weights using the Xavier (Glorot) initialization method in Keras"
   ]
  },
  {
   "cell_type": "code",
   "execution_count": 4,
   "metadata": {},
   "outputs": [],
   "source": [
    "model.add(tf.keras.layers.Dense(64, kernel_initializer='glorot_uniform'))"
   ]
  },
  {
   "cell_type": "markdown",
   "metadata": {},
   "source": [
    "### How can you apply different activation functions in a neural network in Keras"
   ]
  },
  {
   "cell_type": "code",
   "execution_count": 5,
   "metadata": {},
   "outputs": [],
   "source": [
    "model.add(tf.keras.layers.Dense(32, activation='tanh'))"
   ]
  },
  {
   "cell_type": "markdown",
   "metadata": {},
   "source": [
    "### How do you add dropout to a neural network model to prevent overfitting"
   ]
  },
  {
   "cell_type": "code",
   "execution_count": 6,
   "metadata": {},
   "outputs": [],
   "source": [
    "model.add(tf.keras.layers.Dropout(0.5))"
   ]
  },
  {
   "cell_type": "markdown",
   "metadata": {},
   "source": [
    "### How do you manually implement forward propagation in a simple neural network"
   ]
  },
  {
   "cell_type": "code",
   "execution_count": 7,
   "metadata": {},
   "outputs": [],
   "source": [
    "import numpy as np\n",
    "def relu(x):\n",
    "    return np.maximum(0, x)\n",
    "def forward(X, W1, b1, W2, b2):\n",
    "    z1 = np.dot(X, W1) + b1\n",
    "    a1 = relu(z1)\n",
    "    z2 = np.dot(a1, W2) + b2\n",
    "    return z2"
   ]
  },
  {
   "cell_type": "markdown",
   "metadata": {},
   "source": [
    "### How do you add batch normalization to a neural network model in Keras"
   ]
  },
  {
   "cell_type": "code",
   "execution_count": 8,
   "metadata": {},
   "outputs": [],
   "source": [
    "model.add(tf.keras.layers.BatchNormalization())"
   ]
  },
  {
   "cell_type": "markdown",
   "metadata": {},
   "source": [
    "### How can you visualize the training process with accuracy and loss curves"
   ]
  },
  {
   "cell_type": "code",
   "execution_count": 10,
   "metadata": {},
   "outputs": [
    {
     "name": "stdout",
     "output_type": "stream",
     "text": [
      "Epoch 1/10\n",
      "25/25 [==============================] - 3s 15ms/step - loss: 0.6940 - accuracy: 0.4963 - val_loss: 0.6939 - val_accuracy: 0.5150\n",
      "Epoch 2/10\n",
      "25/25 [==============================] - 0s 3ms/step - loss: 0.6913 - accuracy: 0.5275 - val_loss: 0.6933 - val_accuracy: 0.5000\n",
      "Epoch 3/10\n",
      "25/25 [==============================] - 0s 4ms/step - loss: 0.6891 - accuracy: 0.5612 - val_loss: 0.6910 - val_accuracy: 0.4900\n",
      "Epoch 4/10\n",
      "25/25 [==============================] - 0s 4ms/step - loss: 0.6866 - accuracy: 0.5600 - val_loss: 0.6912 - val_accuracy: 0.5050\n",
      "Epoch 5/10\n",
      "25/25 [==============================] - 0s 5ms/step - loss: 0.6860 - accuracy: 0.5638 - val_loss: 0.6899 - val_accuracy: 0.5400\n",
      "Epoch 6/10\n",
      "25/25 [==============================] - 0s 3ms/step - loss: 0.6854 - accuracy: 0.5575 - val_loss: 0.6891 - val_accuracy: 0.5500\n",
      "Epoch 7/10\n",
      "25/25 [==============================] - 0s 4ms/step - loss: 0.6836 - accuracy: 0.5825 - val_loss: 0.6884 - val_accuracy: 0.5300\n",
      "Epoch 8/10\n",
      "25/25 [==============================] - 0s 4ms/step - loss: 0.6832 - accuracy: 0.5813 - val_loss: 0.6894 - val_accuracy: 0.5550\n",
      "Epoch 9/10\n",
      "25/25 [==============================] - 0s 4ms/step - loss: 0.6821 - accuracy: 0.5788 - val_loss: 0.6880 - val_accuracy: 0.5300\n",
      "Epoch 10/10\n",
      "25/25 [==============================] - 0s 4ms/step - loss: 0.6808 - accuracy: 0.5863 - val_loss: 0.6886 - val_accuracy: 0.5550\n"
     ]
    },
    {
     "data": {
      "image/png": "[encoded data removed]",
      "text/plain": [
       "<Figure size 432x288 with 1 Axes>"
      ]
     },
     "metadata": {
      "needs_background": "light"
     },
     "output_type": "display_data"
    }
   ],
   "source": [
    "import numpy as np\n",
    "import tensorflow as tf\n",
    "import matplotlib.pyplot as plt\n",
    "\n",
    "# 1. Generate dummy data\n",
    "X_train = np.random.random((1000, 10))  # 1000 samples, 10 features\n",
    "y_train = np.random.randint(2, size=(1000, 1))  # Binary labels\n",
    "\n",
    "# 2. Build a model\n",
    "model = tf.keras.Sequential([\n",
    "    tf.keras.layers.Dense(64, activation='relu', input_shape=(10,)),\n",
    "    tf.keras.layers.Dense(1, activation='sigmoid')\n",
    "])\n",
    "model.compile(optimizer='adam', loss='binary_crossentropy', metrics=['accuracy'])\n",
    "\n",
    "# 3. Train the model and store history\n",
    "history = model.fit(X_train, y_train, validation_split=0.2, epochs=10)\n",
    "\n",
    "# 4. Plot training curves\n",
    "plt.plot(history.history['loss'], label='Training Loss')\n",
    "plt.plot(history.history['val_loss'], label='Validation Loss')\n",
    "plt.xlabel('Epoch')\n",
    "plt.ylabel('Loss')\n",
    "plt.legend()\n",
    "plt.show()"
   ]
  },
  {
   "cell_type": "markdown",
   "metadata": {},
   "source": [
    "### How can you use gradient clipping in Keras to control the gradient size and prevent exploding gradients"
   ]
  },
  {
   "cell_type": "code",
   "execution_count": 11,
   "metadata": {},
   "outputs": [],
   "source": [
    "model.compile(optimizer=tf.keras.optimizers.Adam(clipvalue=1.0), loss='mse')"
   ]
  },
  {
   "cell_type": "markdown",
   "metadata": {},
   "source": [
    "### How can you create a custom loss function in Keras"
   ]
  },
  {
   "cell_type": "code",
   "execution_count": 13,
   "metadata": {},
   "outputs": [],
   "source": [
    "def custom_loss(y_true, y_pred):\n",
    "    return tf.reduce_mean(tf.square(y_true - y_pred))\n",
    "model.compile(optimizer='adam', loss=custom_loss)\n"
   ]
  },
  {
   "cell_type": "markdown",
   "metadata": {},
   "source": [
    "### How can you visualize the structure of a neural network model in Keras?"
   ]
  },
  {
   "cell_type": "code",
   "execution_count": 14,
   "metadata": {},
   "outputs": [
    {
     "name": "stdout",
     "output_type": "stream",
     "text": [
      "Model: \"sequential_2\"\n",
      "_________________________________________________________________\n",
      " Layer (type)                Output Shape              Param #   \n",
      "=================================================================\n",
      " dense_5 (Dense)             (None, 64)                704       \n",
      "                                                                 \n",
      " dense_6 (Dense)             (None, 1)                 65        \n",
      "                                                                 \n",
      "=================================================================\n",
      "Total params: 769\n",
      "Trainable params: 769\n",
      "Non-trainable params: 0\n",
      "_________________________________________________________________\n",
      "You must install pydot (`pip install pydot`) and install graphviz (see instructions at https://graphviz.gitlab.io/download/) for plot_model to work.\n"
     ]
    }
   ],
   "source": [
    "model.summary()\n",
    "tf.keras.utils.plot_model(model, show_shapes=True)"
   ]
  },
  {
   "cell_type": "markdown",
   "metadata": {},
   "source": [
    "## Thank You !!! "
   ]
  }
 ],
 "metadata": {
  "kernelspec": {
   "display_name": "Python 3",
   "language": "python",
   "name": "python3"
  },
  "language_info": {
   "codemirror_mode": {
    "name": "ipython",
    "version": 3
   },
   "file_extension": ".py",
   "mimetype": "text/x-python",
   "name": "python",
   "nbconvert_exporter": "python",
   "pygments_lexer": "ipython3",
   "version": "3.7.3"
  }
 },
 "nbformat": 4,
 "nbformat_minor": 5
}
